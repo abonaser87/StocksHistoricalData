{
 "cells": [
  {
   "cell_type": "code",
   "execution_count": 1,
   "metadata": {},
   "outputs": [],
   "source": [
    "import calendar\n",
    "import os\n",
    "import pandas as pd\n",
    "import matplotlib.pyplot as plt\n",
    "import numpy as np\n",
    "import math"
   ]
  },
  {
   "cell_type": "code",
   "execution_count": 2,
   "metadata": {},
   "outputs": [],
   "source": [
    "def symbol_to_path(symbol, base_dir=\"Daily\"):\n",
    "    \"\"\"Return CSV file path given ticker symbol.\"\"\"\n",
    "    return os.path.join(base_dir, \"{}.csv\".format(str(symbol)))\n",
    "\n",
    "def normalize_data(df):\n",
    "    return df/df.ix[0,:]\n",
    "\n",
    "def get_data(symbols, dates,col):\n",
    "    \"\"\"Read stock data (adjusted close) for given symbols from CSV files.\"\"\"\n",
    "    df = pd.DataFrame(index=dates)\n",
    "    if 'TASI' not in symbols:  # add SPY for reference, if absent\n",
    "        symbols.insert(0, 'TASI')\n",
    "    dateparse = lambda x: pd.datetime.strptime(x, '%Y%m%d')\n",
    "    for symbol in symbols:\n",
    "        df_temp = pd.read_csv(symbol_to_path(symbol), index_col='Date',\n",
    "                parse_dates=['Date'],date_parser=dateparse, usecols=['Date', col ], na_values=['nan'])\n",
    "        df_temp = df_temp.rename(columns={col: symbol})\n",
    "        df = df.join(df_temp)\n",
    "        if symbol == 'TASI':  # drop dates SPY did not trade\n",
    "            df = df.dropna(subset=[\"TASI\"])\n",
    "\n",
    "    return df\n",
    "\n",
    "def compute_daily_returns(df):\n",
    "    daily_returns = (df/df.shift(1))-1 \n",
    "    daily_returns = daily_returns[1:]\n",
    "    # daily_returns.plot(kind=\"hist\")\n",
    "    plt.show()\n",
    "    return daily_returns"
   ]
  },
  {
   "cell_type": "code",
   "execution_count": null,
   "metadata": {},
   "outputs": [],
   "source": []
  }
 ],
 "metadata": {
  "kernelspec": {
   "display_name": "Python 2",
   "language": "python",
   "name": "python2"
  },
  "language_info": {
   "codemirror_mode": {
    "name": "ipython",
    "version": 2
   },
   "file_extension": ".py",
   "mimetype": "text/x-python",
   "name": "python",
   "nbconvert_exporter": "python",
   "pygments_lexer": "ipython2",
   "version": "2.7.14"
  }
 },
 "nbformat": 4,
 "nbformat_minor": 2
}
