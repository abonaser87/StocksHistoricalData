{
 "cells": [
  {
   "cell_type": "code",
   "execution_count": 9,
   "metadata": {},
   "outputs": [],
   "source": [
    "import pandas as pd\n",
    "import matplotlib as plt\n",
    "\n",
    "%matplotlib inline"
   ]
  },
  {
   "cell_type": "code",
   "execution_count": 11,
   "metadata": {},
   "outputs": [],
   "source": [
    "df = pd.read_excel('voltages.xlsx',header=3,index_col=0)"
   ]
  },
  {
   "cell_type": "code",
   "execution_count": 12,
   "metadata": {
    "scrolled": false
   },
   "outputs": [
    {
     "data": {
      "text/html": [
       "<div>\n",
       "<style scoped>\n",
       "    .dataframe tbody tr th:only-of-type {\n",
       "        vertical-align: middle;\n",
       "    }\n",
       "\n",
       "    .dataframe tbody tr th {\n",
       "        vertical-align: top;\n",
       "    }\n",
       "\n",
       "    .dataframe thead th {\n",
       "        text-align: right;\n",
       "    }\n",
       "</style>\n",
       "<table border=\"1\" class=\"dataframe\">\n",
       "  <thead>\n",
       "    <tr style=\"text-align: right;\">\n",
       "      <th></th>\n",
       "      <th>VOLT 11930 [9030-132 132.00]</th>\n",
       "      <th>VOLT 18914 [JIHFAH 132.00]</th>\n",
       "      <th>VOLT 18915 [KAHFAH 132.00]</th>\n",
       "    </tr>\n",
       "    <tr>\n",
       "      <th>Time(s)</th>\n",
       "      <th></th>\n",
       "      <th></th>\n",
       "      <th></th>\n",
       "    </tr>\n",
       "  </thead>\n",
       "  <tbody>\n",
       "    <tr>\n",
       "      <th>-0.001667</th>\n",
       "      <td>1.008567</td>\n",
       "      <td>0.979918</td>\n",
       "      <td>0.975747</td>\n",
       "    </tr>\n",
       "    <tr>\n",
       "      <th>-0.000833</th>\n",
       "      <td>1.008567</td>\n",
       "      <td>0.979918</td>\n",
       "      <td>0.975748</td>\n",
       "    </tr>\n",
       "    <tr>\n",
       "      <th>0.000000</th>\n",
       "      <td>1.008567</td>\n",
       "      <td>0.979918</td>\n",
       "      <td>0.975748</td>\n",
       "    </tr>\n",
       "    <tr>\n",
       "      <th>0.000833</th>\n",
       "      <td>1.008567</td>\n",
       "      <td>0.979918</td>\n",
       "      <td>0.975748</td>\n",
       "    </tr>\n",
       "    <tr>\n",
       "      <th>0.001667</th>\n",
       "      <td>1.008567</td>\n",
       "      <td>0.979918</td>\n",
       "      <td>0.975748</td>\n",
       "    </tr>\n",
       "  </tbody>\n",
       "</table>\n",
       "</div>"
      ],
      "text/plain": [
       "           VOLT 11930 [9030-132 132.00]  VOLT 18914 [JIHFAH 132.00]  \\\n",
       "Time(s)                                                               \n",
       "-0.001667                      1.008567                    0.979918   \n",
       "-0.000833                      1.008567                    0.979918   \n",
       " 0.000000                      1.008567                    0.979918   \n",
       " 0.000833                      1.008567                    0.979918   \n",
       " 0.001667                      1.008567                    0.979918   \n",
       "\n",
       "           VOLT 18915 [KAHFAH 132.00]  \n",
       "Time(s)                                \n",
       "-0.001667                    0.975747  \n",
       "-0.000833                    0.975748  \n",
       " 0.000000                    0.975748  \n",
       " 0.000833                    0.975748  \n",
       " 0.001667                    0.975748  "
      ]
     },
     "execution_count": 12,
     "metadata": {},
     "output_type": "execute_result"
    }
   ],
   "source": [
    "df.head()"
   ]
  },
  {
   "cell_type": "code",
   "execution_count": 13,
   "metadata": {},
   "outputs": [
    {
     "data": {
      "text/plain": [
       "<matplotlib.axes._subplots.AxesSubplot at 0xe660c50>"
      ]
     },
     "execution_count": 13,
     "metadata": {},
     "output_type": "execute_result"
    },
    {
     "data": {
      "image/png": "[encoded data removed]",
      "text/plain": [
       "<Figure size 432x288 with 1 Axes>"
      ]
     },
     "metadata": {
      "needs_background": "light"
     },
     "output_type": "display_data"
    }
   ],
   "source": [
    "df['VOLT 11930 [9030-132 132.00]'].plot()"
   ]
  }
 ],
 "metadata": {
  "kernelspec": {
   "display_name": "Python 3",
   "language": "python",
   "name": "python3"
  },
  "language_info": {
   "codemirror_mode": {
    "name": "ipython",
    "version": 3
   },
   "file_extension": ".py",
   "mimetype": "text/x-python",
   "name": "python",
   "nbconvert_exporter": "python",
   "pygments_lexer": "ipython3",
   "version": "3.7.3"
  }
 },
 "nbformat": 4,
 "nbformat_minor": 2
}
