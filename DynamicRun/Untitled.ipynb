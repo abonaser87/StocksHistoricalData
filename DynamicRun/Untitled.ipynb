{
 "cells": [
  {
   "cell_type": "code",
   "execution_count": 4,
   "metadata": {},
   "outputs": [],
   "source": [
    "import re\n",
    "import pandas as pd\n",
    "import matplotlib as plt\n",
    "%matplotlib inline"
   ]
  },
  {
   "cell_type": "code",
   "execution_count": 20,
   "metadata": {},
   "outputs": [],
   "source": [
    "\n",
    "def getKeysByValues(dictOfElements, listOfValues):\n",
    "    listOfKeys = list()\n",
    "    listOfItems = dictOfElements.items()\n",
    "    for item  in listOfItems:\n",
    "        try:\n",
    "            if re.search('|'.join(listOfValues),item[1]):\n",
    "                listOfKeys.append(item[0])\n",
    "        except:\n",
    "            continue\n",
    "    return  listOfKeys\n",
    "\n",
    "dictOfElements = {1: u'VOLT 11389 [HAIL_B5 13.800]', 2: u'VOLT 11400 [HAIL-C 13.800]', 3: u'VOLT 11403 [HAIL_C1&2 13.800]', 4: u'VOLT 11408 [HAIL_C3&4 13.800]', 5: u'VOLT 11409 [HAIL_C5&6 13.800]', 6: u'VOLT 11413 [HAIL_ST 13.800]', 7: u'VOLT 11930 [9030-132 132.00]', 8: u'VOLT 11931 [9031-132 132.00]', 9: u'VOLT 11939 [9039-132 132.00]', 10: u'VOLT 17931 [9031 LV-1 13.800]', 11: u'VOLT 17932 [9031 LV-2 13.800]', 12: u'VOLT 18901 [HAIL-1 132.00]', 13: u'VOLT 18902 [HAIL-2 132.00]', 14: u'VOLT 18903 [JITHAM 132.00]', 15: u'VOLT 18904 [8904 132.00]', 16: u'VOLT 18905 [HAIL NOR 132.00]', 17: u'VOLT 18906 [HAIL_UNV 132.00]', 18: u'VOLT 18907 [8907 132.00]', 19: u'VOLT 18908 [HAIL WATER 132.00]', 20: u'VOLT 18909 [8909 132.00]', 21: u'VOLT 18910 [8910 132.00]', 22: u'VOLT 18911 [BAQAA 132.00]', 23: u'VOLT 18912 [SAHA 132.00]', 24: u'VOLT 18913 [MAWQAQ 132.00]', 25: u'VOLT 18914 [JIHFAH 132.00]', 26: u'VOLT 18915 [KAHFAH 132.00]', 27: u'VOLT 18916 [GHAZAL 132.00]', 28: u'VOLT 18917 [WOSAIT 132.00]', 29: u'VOLT 18918 [AZIM 132.00]', 30: u'VOLT 18919 [DARGHT 132.00]', 31: u'VOLT 18920 [NAIHT 132.00]', 32: u'VOLT 18921 [HULAYF 132.00]', 33: u'VOLT 18922 [HAYIT 132.00]', 34: u'VOLT 18925 [8925_ 132 132.00]', 35: u'VOLT 18926 [8926 132.00]', 36: u'VOLT 18927 [8927 132.00]', 37: u'VOLT 18929 [HAIL HOUSING132.00]', 38: u'VOLT 18935 [N.G.H 132.00]', 39: u'VOLT 18936 [GHAZALAH-2 132.00]', 40: u'VOLT 18938 [AZIM-2 132.00]', 41: u'VOLT 19030 [HAIL-1 380.00]', 42: u'VOLT 19031 [HAIL-2 380.00]', 43: u'VOLT 19039 [HAIL-3 380.00]', 44: u'VOLT 19065 [HADCO 380.00]', 45: u'VOLT 118901 [HAIL-1 SPLIT132.00]', 46: u'VOLT 118911 [BAQAA SPLIT 132.00]', 47: u'VOLT 118913 [MAWQAQ SPLIT132.00]', 48: u'VOLT 118915 [KAHFAH SPLIT132.00]', 49: u'VOLT 118919 [DARGHT SPLIT132.00]', 50: u'VOLT 118922 [HAYIT SPLIT 132.00]', 51: u'VOLT 119651 [HADCO-33KV 33.000]', 52: u'VOLT 119652 [HADCO-33KV 33.000]', 53: u'VOLT 179011 [8901 LV-1 33.000]', 54: u'VOLT 179021 [8902 LV-1 33.000]', 55: u'VOLT 179031 [8903 LV-1 33.000]', 56: u'VOLT 179041 [8904 LV-1 33.000]', 57: u'VOLT 179051 [8905 LV-1 13.800]', 58: u'VOLT 179052 [8905 LV-2 13.800]', 59: u'VOLT 179061 [8906 LV-1 13.800]', 60: u'VOLT 179062 [8906 LV-2 13.800]', 61: u'VOLT 179071 [8907 LV-1 13.800]', 62: u'VOLT 179072 [8907 LV-2 13.800]', 63: u'VOLT 179081 [8908 LV-1 13.800]', 64: u'VOLT 179091 [8909 LV-1 13.800]', 65: u'VOLT 179092 [8909 LV-2 13.800]', 66: u'VOLT 179101 [8910LV-1 13.800]', 67: u'VOLT 179102 [8910LV-2 13.800]', 68: u'VOLT 179111 [8911 LV-1 33.000]', 69: u'VOLT 179121 [8912 LV-1 13.800]', 70: u'VOLT 179131 [8913 LV-1 33.000]', 71: u'VOLT 179141 [8914 LV-1 33.000]', 72: u'VOLT 179151 [8915 LV-1 33.000]', 73: u'VOLT 179161 [8916 LV-1 33.000]', 74: u'VOLT 179171 [8917 LV-1 33.000]', 75: u'VOLT 179181 [8918 LV-1 33.000]', 76: u'VOLT 179191 [8919 LV-1 33.000]', 77: u'VOLT 179201 [8920 LV-1 33.000]', 78: u'VOLT 179211 [8921 LV-1 33.000]', 79: u'VOLT 179221 [8922 LV-1 33.000]', 80: u'VOLT 179251 [8925 LV-1 33.000]', 81: u'VOLT 179261 [8926 LV-1 13.800]', 82: u'VOLT 179262 [8926 LV-2 13.800]', 83: u'VOLT 179271 [8927 LV-1 13.800]', 84: u'VOLT 179272 [8927 LV-2 13.800]', 85: u'VOLT 179291 [8929 LV-1 33.000]', 86: u'VOLT 179351 [8935 LV-1 13.800]', 87: u'VOLT 179352 [8935 LV-2 13.800]', 88: u'VOLT 179361 [8936 LV-1 33.000]', 89: u'VOLT 179381 [8938 LV-1 33.000]', 90: u'VOLT 190391 [9039 LV-1 13.800]', 91: u'VOLT 190392 [9039 LV-2 13.800]', 92: u'VOLT 193301 [TERTIARY TF 33.000]', 93: u'VOLT 193302 [TERTIARY TF 33.000]', 94: u'VOLT 193311 [TERTIARY TF 33.000]', 95: u'VOLT 193312 [TERTIARY TF 33.000]', 96: u'VOLT 193313 [TERTIARY TF 33.000]', 97: u'VOLT 193391 [TERTIARY TF 33.000]', 98: u'VOLT 193392 [TERTIARY TF 33.000]', 99: u'VOLT 193393 [TERTIARY TF 33.000]', 100: u'17931 9031 LV-1 SPEED', 101: u'17932 9031 LV-2 SPEED', 102: u'119651 HADCO-33KV SPEED', 103: u'119652 HADCO-33KV SPEED', 104: u'179011 8901 LV-1 SPEED', 105: u'179021 8902 LV-1 SPEED', 106: u'179031 8903 LV-1 SPEED', 107: u'179041 8904 LV-1 SPEED', 108: u'179051 8905 LV-1 SPEED', 109: u'179052 8905 LV-2 SPEED', 110: u'179061 8906 LV-1 SPEED', 111: u'179062 8906 LV-2 SPEED', 112: u'179071 8907 LV-1 SPEED', 113: u'179072 8907 LV-2 SPEED', 114: u'179081 8908 LV-1 SPEED', 115: u'179091 8909 LV-1 SPEED', 116: u'179092 8909 LV-2 SPEED', 117: u'179101 8910LV-1 SPEED', 118: u'179102 8910LV-2 SPEED', 119: u'179111 8911 LV-1 SPEED', 120: u'179121 8912 LV-1 SPEED', 121: u'179131 8913 LV-1 SPEED', 122: u'179141 8914 LV-1 SPEED', 123: u'179151 8915 LV-1 SPEED', 124: u'179161 8916 LV-1 SPEED', 125: u'179171 8917 LV-1 SPEED', 126: u'179181 8918 LV-1 SPEED', 127: u'179191 8919 LV-1 SPEED', 128: u'179201 8920 LV-1 SPEED', 129: u'179211 8921 LV-1 SPEED', 130: u'179221 8922 LV-1 SPEED', 131: u'179251 8925 LV-1 SPEED', 132: u'179261 8926 LV-1 SPEED', 133: u'179262 8926 LV-2 SPEED', 134: u'179271 8927 LV-1 SPEED', 135: u'179272 8927 LV-2 SPEED', 136: u'179291 8929 LV-1 SPEED', 137: u'179351 8935 LV-1 SPEED', 138: u'179352 8935 LV-2 SPEED', 139: u'179361 8936 LV-1 SPEED', 140: u'179381 8938 LV-1 SPEED', 141: u'190391 9039 LV-1 SPEED', 142: u'190392 9039 LV-2 SPEED', 143: u'18916 GHAZAL SVC', 144: u'19031 HAIL-2 SVC', 'time': 'Time(s)'}\n"
   ]
  },
  {
   "cell_type": "code",
   "execution_count": 24,
   "metadata": {},
   "outputs": [
    {
     "data": {
      "text/plain": [
       "'179141|179151|179181|179171'"
      ]
     },
     "execution_count": 24,
     "metadata": {},
     "output_type": "execute_result"
    }
   ],
   "source": [
    "'|'.join(motors)"
   ]
  },
  {
   "cell_type": "code",
   "execution_count": 27,
   "metadata": {},
   "outputs": [],
   "source": [
    "motors = ['179141','179151','179181','179171']\n",
    "voltagesBuses = ['18914','18915']\n",
    "volt = getKeysByValues(dictOfElements,['VOLT '+ i for i in voltagesBuses])\n",
    "svc = getKeysByValues(dictOfElements,['SVC'])\n",
    "speed = getKeysByValues(dictOfElements,[i+'.* SPEED' for i in motors])"
   ]
  },
  {
   "cell_type": "code",
   "execution_count": 28,
   "metadata": {},
   "outputs": [
    {
     "name": "stdout",
     "output_type": "stream",
     "text": [
      "[122, 123, 125, 126]\n"
     ]
    }
   ],
   "source": [
    "print(speed)"
   ]
  },
  {
   "cell_type": "code",
   "execution_count": 5,
   "metadata": {},
   "outputs": [],
   "source": [
    "data = pd.read_excel('Channels/svc.xlsx',header=3,index_col=0)"
   ]
  },
  {
   "cell_type": "code",
   "execution_count": 6,
   "metadata": {},
   "outputs": [
    {
     "data": {
      "text/html": [
       "<div>\n",
       "<style scoped>\n",
       "    .dataframe tbody tr th:only-of-type {\n",
       "        vertical-align: middle;\n",
       "    }\n",
       "\n",
       "    .dataframe tbody tr th {\n",
       "        vertical-align: top;\n",
       "    }\n",
       "\n",
       "    .dataframe thead th {\n",
       "        text-align: right;\n",
       "    }\n",
       "</style>\n",
       "<table border=\"1\" class=\"dataframe\">\n",
       "  <thead>\n",
       "    <tr style=\"text-align: right;\">\n",
       "      <th></th>\n",
       "      <th>18915 KAHFAH N.GIS SVC</th>\n",
       "      <th>18916 GHAZAL SVC</th>\n",
       "      <th>19031 HAIL-2 SVC</th>\n",
       "      <th>179221 8922 LV-1 STCM I</th>\n",
       "      <th>179221 8922 LV-1 STCM VAR</th>\n",
       "    </tr>\n",
       "    <tr>\n",
       "      <th>Time(s)</th>\n",
       "      <th></th>\n",
       "      <th></th>\n",
       "      <th></th>\n",
       "      <th></th>\n",
       "      <th></th>\n",
       "    </tr>\n",
       "  </thead>\n",
       "  <tbody>\n",
       "    <tr>\n",
       "      <th>-0.001667</th>\n",
       "      <td>0.308638</td>\n",
       "      <td>0.576251</td>\n",
       "      <td>-1.403398</td>\n",
       "      <td>0</td>\n",
       "      <td>0</td>\n",
       "    </tr>\n",
       "    <tr>\n",
       "      <th>-0.000833</th>\n",
       "      <td>0.308638</td>\n",
       "      <td>0.576251</td>\n",
       "      <td>-1.403398</td>\n",
       "      <td>0</td>\n",
       "      <td>0</td>\n",
       "    </tr>\n",
       "    <tr>\n",
       "      <th>0.000000</th>\n",
       "      <td>0.308638</td>\n",
       "      <td>0.576251</td>\n",
       "      <td>-1.403398</td>\n",
       "      <td>0</td>\n",
       "      <td>0</td>\n",
       "    </tr>\n",
       "    <tr>\n",
       "      <th>0.000833</th>\n",
       "      <td>0.308638</td>\n",
       "      <td>0.576251</td>\n",
       "      <td>-1.403398</td>\n",
       "      <td>0</td>\n",
       "      <td>0</td>\n",
       "    </tr>\n",
       "    <tr>\n",
       "      <th>0.001667</th>\n",
       "      <td>0.308638</td>\n",
       "      <td>0.576251</td>\n",
       "      <td>-1.403398</td>\n",
       "      <td>0</td>\n",
       "      <td>0</td>\n",
       "    </tr>\n",
       "  </tbody>\n",
       "</table>\n",
       "</div>"
      ],
      "text/plain": [
       "           18915 KAHFAH N.GIS SVC  18916 GHAZAL SVC  19031 HAIL-2 SVC  \\\n",
       "Time(s)                                                                 \n",
       "-0.001667                0.308638          0.576251         -1.403398   \n",
       "-0.000833                0.308638          0.576251         -1.403398   \n",
       " 0.000000                0.308638          0.576251         -1.403398   \n",
       " 0.000833                0.308638          0.576251         -1.403398   \n",
       " 0.001667                0.308638          0.576251         -1.403398   \n",
       "\n",
       "           179221 8922 LV-1 STCM I  179221 8922 LV-1 STCM VAR  \n",
       "Time(s)                                                        \n",
       "-0.001667                        0                          0  \n",
       "-0.000833                        0                          0  \n",
       " 0.000000                        0                          0  \n",
       " 0.000833                        0                          0  \n",
       " 0.001667                        0                          0  "
      ]
     },
     "execution_count": 6,
     "metadata": {},
     "output_type": "execute_result"
    }
   ],
   "source": [
    "data.head()"
   ]
  },
  {
   "cell_type": "code",
   "execution_count": 8,
   "metadata": {},
   "outputs": [],
   "source": [
    "name = data.columns"
   ]
  },
  {
   "cell_type": "code",
   "execution_count": 18,
   "metadata": {},
   "outputs": [
    {
     "data": {
      "text/plain": [
       "Index(['18915', '18916', '19031', '179221', '179221'], dtype='object')"
      ]
     },
     "execution_count": 18,
     "metadata": {},
     "output_type": "execute_result"
    }
   ],
   "source": [
    "data.rename(columns=lambda x: x[:6].strip(), inplace=True)\n",
    "data.columns"
   ]
  }
 ],
 "metadata": {
  "kernelspec": {
   "display_name": "Python 3",
   "language": "python",
   "name": "python3"
  },
  "language_info": {
   "codemirror_mode": {
    "name": "ipython",
    "version": 3
   },
   "file_extension": ".py",
   "mimetype": "text/x-python",
   "name": "python",
   "nbconvert_exporter": "python",
   "pygments_lexer": "ipython3",
   "version": "3.7.3"
  }
 },
 "nbformat": 4,
 "nbformat_minor": 2
}
