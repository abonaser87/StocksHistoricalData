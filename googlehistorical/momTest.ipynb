{
 "cells": [
  {
   "cell_type": "code",
   "execution_count": 2,
   "metadata": {},
   "outputs": [],
   "source": [
    "import calendar\n",
    "import os\n",
    "import pandas as pd\n",
    "import matplotlib.pyplot as plt\n",
    "import numpy as np\n",
    "import math"
   ]
  },
  {
   "cell_type": "code",
   "execution_count": 3,
   "metadata": {},
   "outputs": [],
   "source": [
    "def plot_selected(df, columns, start_index, end_index):\n",
    "    \"\"\"Plot the desired columns over index values in the given range.\"\"\"\n",
    "    plot_data(df.ix[start_index:end_index,columns])\n",
    "\n",
    "def symbol_to_path(symbol, base_dir=\"Daily\"):\n",
    "    \"\"\"Return CSV file path given ticker symbol.\"\"\"\n",
    "    return os.path.join(base_dir, \"{}.csv\".format(str(symbol)))\n",
    "\n",
    "def normalize_data(df):\n",
    "    return df/df.ix[0,:]\n",
    "\n",
    "def get_data(symbols, dates,col):\n",
    "    \"\"\"Read stock data (adjusted close) for given symbols from CSV files.\"\"\"\n",
    "    df = pd.DataFrame(index=dates)\n",
    "    if 'TASI' not in symbols:  # add SPY for reference, if absent\n",
    "        symbols.insert(0, 'TASI')\n",
    "    dateparse = lambda x: pd.datetime.strptime(x, '%Y-%m-%d')\n",
    "    for symbol in symbols:\n",
    "        df_temp = pd.read_csv(symbol_to_path(symbol), index_col='Date',\n",
    "                parse_dates=['Date'],date_parser=dateparse, usecols=['Date', col ], na_values=['nan'])\n",
    "        df_temp = df_temp.rename(columns={col: symbol})\n",
    "        df = df.join(df_temp)\n",
    "\n",
    "        if symbol == 'TASI':  # drop dates SPY did not tradenumpy-1.11.1+mkl-cp27-cp27m-win32.whl\n",
    "            df = df.dropna(subset=[\"TASI\"])\n",
    "\n",
    "    return df\n",
    "\n",
    "def plot_data(df, title=\"Stock prices\"):\n",
    "    \"\"\"Plot stock prices with a custom title and meaningful axis labels.\"\"\"\n",
    "    ax = df.plot(title=title, fontsize=12)\n",
    "    ax.set_xlabel(\"Date\")\n",
    "    ax.set_ylabel(\"Price\")\n",
    "    plt.show()\n",
    "\n",
    "def compute_daily_returns(df):\n",
    "    daily_returns = (df/df.shift(1))-1\n",
    "    daily_returns = daily_returns[1:]\n",
    "    daily_returns.plot(kind=\"hist\")\n",
    "    plt.show()\n",
    "    return daily_returns"
   ]
  },
  {
   "cell_type": "code",
   "execution_count": 17,
   "metadata": {},
   "outputs": [],
   "source": [
    "dates = pd.date_range('01-11-2012', '06-07-2017')\n",
    "symbols = ['TASI']\n",
    "df = get_data(symbols, dates,'Close')\n",
    "df = df.resample('M').mean()\n",
    "df.to_excel(\"DF.xlsx\")"
   ]
  },
  {
   "cell_type": "code",
   "execution_count": 18,
   "metadata": {
    "scrolled": true
   },
   "outputs": [
    {
     "data": {
      "image/png": "[encoded data removed]",
      "text/plain": [
       "<Figure size 432x288 with 1 Axes>"
      ]
     },
     "metadata": {},
     "output_type": "display_data"
    }
   ],
   "source": [
    "returns = compute_daily_returns(df)\n",
    "returns.to_excel(\"returns.xlsx\")\n",
    "grossreturns = 1 + returns\n",
    "grossreturns = grossreturns.iloc[::-1]\n",
    "grossreturns.to_excel(\"df2.xlsx\")\n",
    "lookback = 11\n",
    "momentum = 1\n",
    "tempIdx = 0\n",
    "count = len(grossreturns) - lookback + 1\n",
    "dfMom = pd.DataFrame()\n",
    "i=0\n",
    "j=0\n",
    "while i < count:    \n",
    "    j=i\n",
    "    for idx, row in grossreturns.iterrows():\n",
    "        if lookback > 0 :\n",
    "            if tempIdx == 0:\n",
    "                tempIdx = grossreturns.iloc[j].name\n",
    "            momentum = momentum * grossreturns.iloc[j][0]\n",
    "            lookback-=1\n",
    "            j+=1\n",
    "        else:\n",
    "            momentum = momentum - 1\n",
    "            momentum = { 'Mom':momentum}       \n",
    "            dfMom = dfMom.append(pd.DataFrame(data=momentum,index=[tempIdx]))\n",
    "            momentum = 1\n",
    "            tempIdx = 0\n",
    "            lookback=11            \n",
    "            break\n",
    "    i+=1\n",
    "dfMom.to_clipboard()"
   ]
  },
  {
   "cell_type": "code",
   "execution_count": null,
   "metadata": {},
   "outputs": [],
   "source": []
  }
 ],
 "metadata": {
  "kernelspec": {
   "display_name": "Python 2",
   "language": "python",
   "name": "python2"
  },
  "language_info": {
   "codemirror_mode": {
    "name": "ipython",
    "version": 2
   },
   "file_extension": ".py",
   "mimetype": "text/x-python",
   "name": "python",
   "nbconvert_exporter": "python",
   "pygments_lexer": "ipython2",
   "version": "2.7.14"
  }
 },
 "nbformat": 4,
 "nbformat_minor": 1
}
